{
 "cells": [
  {
   "cell_type": "markdown",
   "id": "f45c1234-253a-4463-a3e3-ea689c578c10",
   "metadata": {},
   "source": [
    "Q1. What is multiprocessing in python? Why is it useful?"
   ]
  },
  {
   "cell_type": "code",
   "execution_count": null,
   "id": "0453212f-2416-4ce6-b68d-b3ce2b3b6450",
   "metadata": {},
   "outputs": [],
   "source": [
    "# Multiprocessing in Python is a built-in package that allows the system to run multiple processes simultaneously. It will enable the breaking\n",
    "# of applications into smaller threads that can run independently.\n",
    "\n",
    "# A process of running multiple processes simultaneously within a single thread."
   ]
  },
  {
   "cell_type": "code",
   "execution_count": null,
   "id": "d30a711b-46e0-4c64-8df3-06eff03a828b",
   "metadata": {},
   "outputs": [],
   "source": [
    " # multiprocessing improve the performance of a program by using multiple CPUs or CPU cores."
   ]
  },
  {
   "cell_type": "code",
   "execution_count": null,
   "id": "c0d53eb7-12c8-4f43-9e7f-2d8749183d01",
   "metadata": {},
   "outputs": [],
   "source": [
    "# Multiprocessing is useful for CPU-bound processes, such as computationally heavy tasks since it will benefit from having multiple processors;\n",
    "# similar to how multicore computers work faster than computers with a single core.\n"
   ]
  },
  {
   "cell_type": "markdown",
   "id": "72767330-59aa-4356-83d3-11c74f5d7d32",
   "metadata": {},
   "source": [
    "Q2. What are the differences between multiprocessing and multithreading?"
   ]
  },
  {
   "cell_type": "code",
   "execution_count": null,
   "id": "82b0704b-d0c0-4b7d-b66b-af3370bdad4e",
   "metadata": {},
   "outputs": [],
   "source": [
    "# Multiprocessing uses two or more CPUs to increase computing power, whereas multithreading uses a single process with multiple code segments\n",
    "# to increase computing power. Multithreading focuses on generating computing threads from a single process, whereas multiprocessing increases \n",
    "# computing power by adding CPUs"
   ]
  },
  {
   "cell_type": "code",
   "execution_count": null,
   "id": "0735f015-093c-4bc8-90d7-75d7a43cf2c1",
   "metadata": {},
   "outputs": [],
   "source": [
    "# S.NO\tMultiprocessing\t                                                                Multithreading\n",
    "# 1.  In Multiprocessing, CPUs are added for increasing computing power.\t   While In Multithreading, many threads are created of a single process for increasing computing power.\n",
    "# 2.  In Multiprocessing, Many processes are executed simultaneously.  \t       While in multithreading, many threads of a process are executed simultaneously.\n",
    "# 3.  Multiprocessing are classified into Symmetric and Asymmetric.\t           While Multithreading is not classified in any categories.\n",
    "# 4.  In Multiprocessing, Process creation is a time-consuming process.\t       While in Multithreading, process creation is according to economical.\n",
    "# 5.  In Multiprocessing, every process owned a separate address space.\t       While in Multithreading, a common address space is shared by all the threads."
   ]
  },
  {
   "cell_type": "code",
   "execution_count": null,
   "id": "5cf465a1-4b29-4bc4-a13f-f3b6d80a6d04",
   "metadata": {},
   "outputs": [],
   "source": []
  },
  {
   "cell_type": "code",
   "execution_count": null,
   "id": "8ff92e26-eb2e-4ea1-9001-9d4f65b0eb56",
   "metadata": {},
   "outputs": [],
   "source": []
  },
  {
   "cell_type": "markdown",
   "id": "3e11e73f-8887-4162-af92-2f211daa155f",
   "metadata": {},
   "source": [
    "Q3. Write a python code to create a process using the multiprocessing module."
   ]
  },
  {
   "cell_type": "code",
   "execution_count": 1,
   "id": "665d467c-cc04-4170-b1a5-7a345d1c0ed9",
   "metadata": {},
   "outputs": [],
   "source": [
    "import multiprocessing"
   ]
  },
  {
   "cell_type": "code",
   "execution_count": 2,
   "id": "7b90bd20-dc38-4643-86d6-3377186b1215",
   "metadata": {},
   "outputs": [
    {
     "name": "stdout",
     "output_type": "stream",
     "text": [
      "this is my main program for process\n",
      "this program is made to create process\n"
     ]
    }
   ],
   "source": [
    "def _process(): \n",
    "    print('this program is made to create process')\n",
    "    \n",
    "if __name__ == '__main__':\n",
    "    n = multiprocessing.Process(target = _process)\n",
    "    print('this is my main program for process')\n",
    "    \n",
    "    n.start()\n",
    "    n.join()"
   ]
  },
  {
   "cell_type": "code",
   "execution_count": null,
   "id": "a6bb04b0-9ed2-4eb8-8730-9f7a1ba86dab",
   "metadata": {},
   "outputs": [],
   "source": []
  },
  {
   "cell_type": "code",
   "execution_count": null,
   "id": "62479f13-35d9-490a-af3b-be5c97210a1b",
   "metadata": {},
   "outputs": [],
   "source": []
  },
  {
   "cell_type": "markdown",
   "id": "fbbd68e5-c44a-47e9-88d8-c541c5ba5676",
   "metadata": {},
   "source": [
    "Q4. What is a multiprocessing pool in python? Why is it used?"
   ]
  },
  {
   "cell_type": "code",
   "execution_count": null,
   "id": "e8bde382-0de0-43fa-88fd-ced1f7efb33a",
   "metadata": {},
   "outputs": [],
   "source": [
    "# multiprocessing is a package that supports spawning processes using an API similar to the threading module. The multiprocessing package offers both local and remote \n",
    "# concurrency, effectively side-stepping the Global Interpreter Lock by using subprocesses instead of threads. Due to this, the multiprocessing module allows the programmer\n",
    "# to fully leverage multiple processors on a given machine."
   ]
  },
  {
   "cell_type": "code",
   "execution_count": null,
   "id": "afbc022a-406a-473c-8ec1-209e18b28364",
   "metadata": {},
   "outputs": [],
   "source": [
    "# Python multiprocessing Pool can be used for parallel execution of a function across multiple input values, distributing the input data across processes (data parallelism)."
   ]
  },
  {
   "cell_type": "code",
   "execution_count": null,
   "id": "0391982a-50bb-4098-9b9d-8bf8307c0ae9",
   "metadata": {},
   "outputs": [],
   "source": []
  },
  {
   "cell_type": "markdown",
   "id": "2ae580e6-bda0-447f-9cbf-6f829832595e",
   "metadata": {},
   "source": [
    "Q5. How can we create a pool of worker processes in python using the multiprocessing module?"
   ]
  },
  {
   "cell_type": "code",
   "execution_count": 34,
   "id": "4c34d8da-55aa-430f-af13-919a837d13d4",
   "metadata": {},
   "outputs": [
    {
     "name": "stdout",
     "output_type": "stream",
     "text": [
      "Processed 3, Result: 6\n",
      "Processed 2, Result: 4\n",
      "Processed 1, Result: 2\n",
      "Processed 4, Result: 8\n",
      "\n",
      "\n",
      "\n",
      "\n",
      "Processed 5, Result: 10\n",
      "\n",
      "All processes have finished.\n",
      "Final results: [2, 4, 6, 8, 10]\n"
     ]
    }
   ],
   "source": [
    "import multiprocessing\n",
    "import time\n",
    "\n",
    "def worker_function(number):\n",
    "    \"\"\"\n",
    "    This function will be executed by each worker process.\n",
    "    \"\"\"\n",
    "    result = number * 2\n",
    "    print(f\"Processed {number}, Result: {result}\\n\")\n",
    "    time.sleep(1)\n",
    "    return result\n",
    "\n",
    "if __name__ == \"__main__\":\n",
    "    # Create a pool with 4 worker processes\n",
    "    pool = multiprocessing.Pool(processes=4)\n",
    "    \n",
    "    # Input data for the worker function\n",
    "    input_data = [1, 2, 3, 4, 5]\n",
    "\n",
    "    # Execute the worker function in parallel using the pool\n",
    "    results = pool.map(worker_function, input_data)\n",
    "\n",
    "    # Close the pool and wait for all processes to finish\n",
    "    # pool.close()\n",
    "    # pool.join()\n",
    "\n",
    "    print(\"All processes have finished.\")\n",
    "    print(\"Final results:\", results)\n"
   ]
  },
  {
   "cell_type": "code",
   "execution_count": null,
   "id": "0cd9d1ee-4ff8-4298-8592-92134f1e0afa",
   "metadata": {},
   "outputs": [],
   "source": []
  },
  {
   "cell_type": "markdown",
   "id": "ef8d0ecf-5d5a-4af7-95d0-342ecf12c313",
   "metadata": {},
   "source": [
    "Q6. Write a python program to create 4 processes, each process should print a different number using the multiprocessing module in python."
   ]
  },
  {
   "cell_type": "code",
   "execution_count": 3,
   "id": "b47014ea-7182-47a3-b429-a1146dc228c2",
   "metadata": {},
   "outputs": [
    {
     "name": "stdout",
     "output_type": "stream",
     "text": [
      "Process 0 is printing number: 1\n",
      "Process 1 is printing number: 2\n",
      "Process 2 is printing number: 3\n",
      "Process 3 is printing number: 4\n",
      "All processes have finished.\n"
     ]
    }
   ],
   "source": [
    "import multiprocessing\n",
    "\n",
    "def print_number(process_num):\n",
    "    \"\"\"\n",
    "    This function will be executed by each process to print its process number.\n",
    "    \"\"\"\n",
    "    print(f\"Process {process_num} is printing number: {process_num + 1}\")\n",
    "\n",
    "if __name__ == \"__main__\":\n",
    "    # Create four process objects\n",
    "    processes = [multiprocessing.Process(target=print_number, args=(i,)) for i in range(4)]\n",
    "    \n",
    "    # Start each process\n",
    "    for process in processes:\n",
    "        process.start()\n",
    "\n",
    "    # Wait for all processes to complete\n",
    "    for process in processes:\n",
    "        process.join()\n",
    "\n",
    "    print(\"All processes have finished.\")\n"
   ]
  },
  {
   "cell_type": "code",
   "execution_count": null,
   "id": "576167f4-9f29-4d33-9ec7-810fad10413d",
   "metadata": {},
   "outputs": [],
   "source": []
  },
  {
   "cell_type": "code",
   "execution_count": 1,
   "id": "aa6cf09e-20cc-45a4-9f39-6f9d015f7b94",
   "metadata": {},
   "outputs": [
    {
     "name": "stdout",
     "output_type": "stream",
     "text": [
      "Process 0 is running\n",
      "Process 1 is running\n",
      "Process 2 is running\n",
      "Process 3 is running\n",
      "All processes have finished.\n"
     ]
    }
   ],
   "source": [
    "import multiprocessing\n",
    "\n",
    "def worker_process(process_num):\n",
    "    \"\"\"\n",
    "    This function will be executed by each process.\n",
    "    \"\"\"\n",
    "    print(f\"Process {process_num} is running\")\n",
    "\n",
    "if __name__ == \"__main__\":\n",
    "    # Create four process objects\n",
    "    processes = [multiprocessing.Process(target=worker_process, args=(i,)) for i in range(4)]\n",
    "    \n",
    "    # Start each process\n",
    "    for process in processes:\n",
    "        process.start()\n",
    "\n",
    "    # Wait for all processes to complete\n",
    "    for process in processes:\n",
    "        process.join()\n",
    "\n",
    "    print(\"All processes have finished.\")\n"
   ]
  },
  {
   "cell_type": "code",
   "execution_count": null,
   "id": "aef5c7bf-0c7b-425f-b5b1-2d2e24f84743",
   "metadata": {},
   "outputs": [],
   "source": []
  },
  {
   "cell_type": "code",
   "execution_count": 2,
   "id": "c6fd4e4e-1d51-4acf-b988-3a2f59cb2bf5",
   "metadata": {},
   "outputs": [
    {
     "name": "stdout",
     "output_type": "stream",
     "text": [
      "Process 0 is printing number: 1\n",
      "Process 1 is printing number: 2\n",
      "Process 2 is printing number: 3\n",
      "Process 3 is printing number: 4\n",
      "All processes have finished.\n"
     ]
    }
   ],
   "source": [
    "import multiprocessing\n",
    "\n",
    "def print_number(process_num, number):\n",
    "    \"\"\"\n",
    "    This function will be executed by each process to print the given number.\n",
    "    \"\"\"\n",
    "    print(f\"Process {process_num} is printing number: {number}\")\n",
    "\n",
    "if __name__ == \"__main__\":\n",
    "    # Numbers to be printed by each process\n",
    "    numbers = [1, 2, 3, 4]\n",
    "\n",
    "    # Create four process objects\n",
    "    processes = [multiprocessing.Process(target=print_number, args=(i, num)) for i, num in enumerate(numbers)]\n",
    "    \n",
    "    # Start each process\n",
    "    for process in processes:\n",
    "        process.start()\n",
    "\n",
    "    # Wait for all processes to complete\n",
    "    for process in processes:\n",
    "        process.join()\n",
    "\n",
    "    print(\"All processes have finished.\")\n"
   ]
  },
  {
   "cell_type": "code",
   "execution_count": null,
   "id": "b7b479bd-c530-4569-af53-37b0cf214732",
   "metadata": {},
   "outputs": [],
   "source": []
  }
 ],
 "metadata": {
  "kernelspec": {
   "display_name": "Python 3 (ipykernel)",
   "language": "python",
   "name": "python3"
  },
  "language_info": {
   "codemirror_mode": {
    "name": "ipython",
    "version": 3
   },
   "file_extension": ".py",
   "mimetype": "text/x-python",
   "name": "python",
   "nbconvert_exporter": "python",
   "pygments_lexer": "ipython3",
   "version": "3.10.8"
  }
 },
 "nbformat": 4,
 "nbformat_minor": 5
}
